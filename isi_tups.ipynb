{
 "cells": [
  {
   "cell_type": "code",
   "execution_count": 2,
   "id": "6061ed9e-46c5-4fd4-b16a-4b3b61ca6d53",
   "metadata": {},
   "outputs": [],
   "source": [
    "import os\n",
    "import requests\n",
    "import openpyxl\n",
    "import pandas as pd\n",
    "import numpy as np\n",
    "import re\n",
    "import yaml"
   ]
  },
  {
   "cell_type": "code",
   "execution_count": 4,
   "id": "62c531c4-f9bc-40e4-8985-f5fe16be8814",
   "metadata": {},
   "outputs": [],
   "source": [
    "def fetch_and_filter_data(url): # Function to fetch and filter the JSON file\n",
    "    response = requests.get(url)\n",
    "    json_data = response.json()\n",
    "    for study in json_data['study']:\n",
    "        for site in study['site']:\n",
    "            coordinates = site['geo']['geometry']['coordinates'] # Extract latitude and longitude from resepctive json key\n",
    "            latitude = coordinates[0]\n",
    "            longitude = coordinates[1]\n",
    "\n",
    "            file_url_list = []\n",
    "            file_var = []\n",
    "            for paleo_data in site['paleoData']:\n",
    "                for data_file in paleo_data['dataFile']:\n",
    "                    file_url = data_file['fileUrl'] # Extract file URL\n",
    "                    file_url_list.append(file_url)\n",
    "                    \n",
    "                    var_names = [var['cvShortName'] for var in data_file['variables']] # Extract variable names\n",
    "                    file_var.append(var_names)\n",
    "\n",
    "    return [latitude, longitude, file_url_list, file_var]\n"
   ]
  },
  {
   "cell_type": "code",
   "execution_count": null,
   "id": "295e8ca9",
   "metadata": {},
   "outputs": [],
   "source": [
    "responses = []"
   ]
  },
  {
   "cell_type": "code",
   "execution_count": 6,
   "id": "ad68598b-f2c1-442f-9dcc-138d99f5d4f7",
   "metadata": {
    "scrolled": true
   },
   "outputs": [
    {
     "name": "stdout",
     "output_type": "stream",
     "text": [
      "Latitude: 1.4033, Longitude: 119.078\n",
      "File URL: https://www.ncei.noaa.gov/pub/data/paleo/contributions_by_author/khider2011/khider2011.txt\n",
      "Variables: [None, None, None, None, None, None, None]\n",
      "Latitude: 32.28, Longitude: -118.38\n",
      "File URL: https://www.ncei.noaa.gov/pub/data/paleo/paleocean/pacific/bhattacharya2022/bhattacharya2022-odp1012.txt\n",
      "Variables: ['dD_precip', 'dD_precip_err', 'age_ma', 'dD_wax', 'dD_wax_err', 'd13C_wax', 'd13C_wax_err']\n",
      "Latitude: 23.03, Longitude: -109.03\n",
      "File URL: https://www.ncei.noaa.gov/pub/data/paleo/paleocean/pacific/bhattacharya2022/bhattacharya2022-dsdp475.txt\n",
      "Variables: ['age_ma', 'dD_wax', 'dD_wax_err', 'd13C_wax', 'd13C_wax_err', 'dD_precip', 'dD_precip_err']\n",
      "Latitude: -.693833, Longitude: -85.33325\n",
      "File URL: https://www.ncei.noaa.gov/pub/data/paleo/paleocean/pacific/glaubke2024/glaubke2024-09mc.txt\n",
      "Variables: ['TimeSlice', 'Age_kyrs', 'SampSize_ug', 'Mg/Ca', 'Mn/Ca', 'Al/Ca', 'Fe/Ca', 'Mg/Ca-SWT']\n",
      "Latitude: -.180533, Longitude: -85.86673\n",
      "File URL: https://www.ncei.noaa.gov/pub/data/paleo/paleocean/pacific/glaubke2024/glaubke2024-17jc.txt\n",
      "Variables: ['Fe/Ca', 'Mg/Ca-SWT', 'TimeSlice', 'Age_kyrs', 'SampSize_ug', 'Mg/Ca', 'Mn/Ca', 'Al/Ca']\n",
      "Latitude: 37.24, Longitude: -106.63\n",
      "File URL: https://www.ncei.noaa.gov/pub/data/paleo/paleolimnology/northamerica/usa/colorado/blue2019dust-coreb.txt\n",
      "Variables: [None, None, None, None]\n",
      "File URL: https://www.ncei.noaa.gov/pub/data/paleo/paleolimnology/northamerica/usa/colorado/blue2019dmar-ens.txt\n",
      "Variables: [None, None, None, None, None, None]\n",
      "File URL: https://www.ncei.noaa.gov/pub/data/paleo/paleolimnology/northamerica/usa/colorado/blue2019dmar.txt\n",
      "Variables: [None, None]\n",
      "File URL: https://www.ncei.noaa.gov/pub/data/paleo/paleolimnology/northamerica/usa/colorado/blue2019dust-corea.txt\n",
      "Variables: [None, None, None, None]\n"
     ]
    }
   ],
   "source": [
    "khider_response = fetch_and_filter_data(\"https://www.ncei.noaa.gov/access/paleo-search/study/search.json?xmlId=16017\")\n",
    "responses.append(khider_response)"
   ]
  },
  {
   "cell_type": "code",
   "execution_count": null,
   "id": "21b8e04e",
   "metadata": {},
   "outputs": [],
   "source": [
    "bhattacharya_response = fetch_and_filter_data(\"https://www.ncei.noaa.gov/access/paleo-search/study/search.json?xmlId=78037\")\n",
    "responses.append(bhattacharya_response)"
   ]
  },
  {
   "cell_type": "code",
   "execution_count": null,
   "id": "522755b7",
   "metadata": {},
   "outputs": [],
   "source": [
    "glaubek_response = fetch_and_filter_data(\"https://www.ncei.noaa.gov/access/paleo-search/study/search.json?xmlId=80598\")\n",
    "responses.append(glaubek_response)"
   ]
  },
  {
   "cell_type": "code",
   "execution_count": null,
   "id": "52df72bc",
   "metadata": {},
   "outputs": [],
   "source": [
    "cody_response = fetch_and_filter_data(\"https://www.ncei.noaa.gov/access/paleo-search/study/search.json?xmlId=66868\")\n",
    "responses.append(cody_response)"
   ]
  },
  {
   "cell_type": "code",
   "execution_count": null,
   "id": "0afd928a",
   "metadata": {},
   "outputs": [],
   "source": [
    "def filter_rows_cols(block_str):\n",
    "    # Find occurrences of 'start..end' patterns\n",
    "    all_ranges = re.findall(r'(\\d+)\\.\\.(\\d+)', block_str)\n",
    "    \n",
    "    # Separate row and column ranges for every block\n",
    "    row_ranges = [(int(start), int(end)) for start, end in all_ranges[::2]]\n",
    "    col_ranges = [(int(start), int(end)) for start, end in all_ranges[1::2]]\n",
    "    return row_ranges, col_ranges"
   ]
  },
  {
   "cell_type": "code",
   "execution_count": null,
   "id": "12d514c2",
   "metadata": {},
   "outputs": [],
   "source": [
    "# Function to extract and print data for each block\n",
    "def extract_for_all_blocks(df, rows_ranges, cols_ranges, spreadsheet_df):\n",
    "    for i, (row_range, col_range) in enumerate(zip(rows_ranges, cols_ranges)):\n",
    "        start_row, end_row = row_range\n",
    "        start_col, end_col = col_range\n",
    "\n",
    "        block_data = spreadsheet_df.iloc[start_row-1:end_row, start_col:end_col+1]\n",
    "        print(f\"Block {i+1} (rows {start_row} to {end_row}, columns {start_col} to {end_col}):\\n\")\n",
    "        print(block_data)\n",
    "        print(\"\\n\" + \"=\"*50 + \"\\n\")"
   ]
  },
  {
   "cell_type": "code",
   "execution_count": 8,
   "id": "109ab83d-c4cb-46f6-b67c-8a911773307a",
   "metadata": {},
   "outputs": [
    {
     "name": "stdout",
     "output_type": "stream",
     "text": [
      "Block 1 (rows 1 to 1, columns 0 to 4):\n",
      "\n",
      "   Unnamed: 0  age_calBP  dustfrac   sedrate     dens\n",
      "0           0    2722.83   0.33702  0.049261  0.24186\n",
      "\n",
      "==================================================\n",
      "\n"
     ]
    }
   ],
   "source": [
    "yaml_path = './isi-table-understanding/tmp/output/blue2019dust-corea.xlsx_0_Sheet1.yaml'\n",
    "excel_path = './isi-table-understanding/tmp/output/blue2019dust-corea.xlsx_colorised.xlsx'\n",
    "\n",
    "# Load YAML file to check structure\n",
    "with open(yaml_path, 'r') as file:\n",
    "    yaml_data = yaml.safe_load(file)\n",
    "\n",
    "spreadsheet_df = pd.read_excel(excel_path, sheet_name=0)\n",
    "\n",
    "# Extract the 'ObservationData' from the YAML file\n",
    "observation_data_str = yaml_data['variables']['data0']['ObservationData']\n",
    "\n",
    "rows_ranges, cols_ranges = filter_rows_cols(observation_data_str)\n",
    "# Extract and print data for all blocks\n",
    "extract_for_all_blocks(spreadsheet_df, rows_ranges, cols_ranges)"
   ]
  }
 ],
 "metadata": {
  "kernelspec": {
   "display_name": "base",
   "language": "python",
   "name": "python3"
  },
  "language_info": {
   "codemirror_mode": {
    "name": "ipython",
    "version": 3
   },
   "file_extension": ".py",
   "mimetype": "text/x-python",
   "name": "python",
   "nbconvert_exporter": "python",
   "pygments_lexer": "ipython3",
   "version": "3.12.3"
  }
 },
 "nbformat": 4,
 "nbformat_minor": 5
}
